{
 "cells": [
  {
   "cell_type": "code",
   "execution_count": 4,
   "metadata": {},
   "outputs": [
    {
     "name": "stdout",
     "output_type": "stream",
     "text": [
      "Collecting pyomo\n",
      "  Downloading Pyomo-6.8.2-py3-none-any.whl.metadata (8.0 kB)\n",
      "Collecting ply (from pyomo)\n",
      "  Downloading ply-3.11-py2.py3-none-any.whl.metadata (844 bytes)\n",
      "Downloading Pyomo-6.8.2-py3-none-any.whl (3.7 MB)\n",
      "   ---------------------------------------- 0.0/3.7 MB ? eta -:--:--\n",
      "   ---------------------------------------- 0.0/3.7 MB ? eta -:--:--\n",
      "   -- ------------------------------------- 0.3/3.7 MB ? eta -:--:--\n",
      "   -------- ------------------------------- 0.8/3.7 MB 1.6 MB/s eta 0:00:02\n",
      "   -------------- ------------------------- 1.3/3.7 MB 1.9 MB/s eta 0:00:02\n",
      "   ------------------- -------------------- 1.8/3.7 MB 2.2 MB/s eta 0:00:01\n",
      "   ---------------------------- ----------- 2.6/3.7 MB 2.3 MB/s eta 0:00:01\n",
      "   ------------------------------------ --- 3.4/3.7 MB 2.6 MB/s eta 0:00:01\n",
      "   ---------------------------------------- 3.7/3.7 MB 2.5 MB/s eta 0:00:00\n",
      "Downloading ply-3.11-py2.py3-none-any.whl (49 kB)\n",
      "Installing collected packages: ply, pyomo\n",
      "Successfully installed ply-3.11 pyomo-6.8.2\n",
      "Note: you may need to restart the kernel to use updated packages.\n"
     ]
    }
   ],
   "source": [
    "pip install pyomo"
   ]
  },
  {
   "cell_type": "code",
   "execution_count": 5,
   "metadata": {},
   "outputs": [],
   "source": [
    "from pyomo.environ import *\n",
    "\n",
    "# Parameters\n",
    "numOperations = 3\n",
    "numJobs = 2\n",
    "numMachines = 3\n",
    "numMaintCycles = 3\n",
    "numPositions = 2\n",
    "B = 100000\n",
    "\n",
    "# Model\n",
    "model = ConcreteModel()\n",
    "\n",
    "# Sets\n",
    "model.I = RangeSet(1, numOperations)  # Operations\n",
    "model.J = RangeSet(1, numJobs)        # Jobs\n",
    "model.M = RangeSet(1, numMachines)    # Machines\n",
    "model.W = RangeSet(1, numMaintCycles) # Maintenance cycles\n",
    "model.R = RangeSet(1, numPositions)   # Positions"
   ]
  },
  {
   "cell_type": "code",
   "execution_count": 7,
   "metadata": {},
   "outputs": [],
   "source": [
    "# \n",
    "pijm = {\n",
    "    (1, 1, 1): 3, (1, 1, 2): 0, (1, 1, 3): 0,\n",
    "    (2, 1, 1): 0, (2, 1, 2): 0, (2, 1, 3): 4,\n",
    "    (3, 1, 1): 0, (3, 1, 2): 0, (3, 1, 3): 0,\n",
    "    (1, 2, 1): 4, (1, 2, 2): 0, (1, 2, 3): 0,\n",
    "    (2, 2, 1): 0, (2, 2, 2): 2, (2, 2, 3): 0,\n",
    "    (3, 2, 1): 0, (3, 2, 2): 0, (3, 2, 3): 6,\n",
    "}\n",
    "\n",
    "STijm = {\n",
    "    (1, 1, 1): 1, (1, 1, 2): 0, (1, 1, 3): 0,\n",
    "    (2, 1, 1): 0, (2, 1, 2): 0, (2, 1, 3): 2,\n",
    "    (3, 1, 1): 0, (3, 1, 2): 0, (3, 1, 3): 0,\n",
    "    (1, 2, 1): 2, (1, 2, 2): 0, (1, 2, 3): 0,\n",
    "    (2, 2, 1): 0, (2, 2, 2): 1, (2, 2, 3): 0,\n",
    "    (3, 2, 1): 0, (3, 2, 2): 0, (3, 2, 3): 1,\n",
    "}\n",
    "\n",
    "fijm = {\n",
    "    (1, 1, 1): 1, (1, 1, 2): 0, (1, 1, 3): 0,\n",
    "    (2, 1, 1): 0, (2, 1, 2): 0, (2, 1, 3): 1,\n",
    "    (3, 1, 1): 0, (3, 1, 2): 0, (3, 1, 3): 0,\n",
    "    (1, 2, 1): 1, (1, 2, 2): 0, (1, 2, 3): 0,\n",
    "    (2, 2, 1): 0, (2, 2, 2): 1, (2, 2, 3): 0,\n",
    "    (3, 2, 1): 0, (3, 2, 2): 0, (3, 2, 3): 1,\n",
    "}"
   ]
  },
  {
   "cell_type": "code",
   "execution_count": 8,
   "metadata": {},
   "outputs": [],
   "source": [
    "# Decision variables\n",
    "model.sij = Var(model.I, model.J, within=NonNegativeReals)  # Start time of operation i of job j\n",
    "model.cij = Var(model.I, model.J, within=NonNegativeReals)  # Completion time of operation i of job j\n",
    "model.cirm = Var(model.I, model.R, model.M, within=NonNegativeReals)\n",
    "model.sirm = Var(model.I, model.R, model.M, within=NonNegativeReals)\n",
    "model.yijrm = Var(model.I, model.J, model.R, model.M, within=Binary)\n",
    "model.Cmax = Var(within=NonNegativeReals)"
   ]
  },
  {
   "cell_type": "code",
   "execution_count": 9,
   "metadata": {},
   "outputs": [],
   "source": [
    "model.obj = Objective(expr=model.Cmax, sense=minimize)\n",
    "\n",
    "model.constraints = ConstraintList()"
   ]
  },
  {
   "cell_type": "code",
   "execution_count": 10,
   "metadata": {},
   "outputs": [],
   "source": [
    "for j in model.J:\n",
    "    for i in model.I:\n",
    "        model.constraints.add(model.Cmax >= model.cij[i, j])"
   ]
  },
  {
   "cell_type": "code",
   "execution_count": 11,
   "metadata": {},
   "outputs": [],
   "source": [
    "for m in model.M:\n",
    "    for j in model.J:\n",
    "        for r in model.R:\n",
    "            for i in model.I:\n",
    "                model.constraints.add(model.cij[i, j] >= model.cirm[i, r, m] - B * (1 - model.yijrm[i, j, r, m]))\n"
   ]
  },
  {
   "cell_type": "code",
   "execution_count": 12,
   "metadata": {},
   "outputs": [],
   "source": [
    "for m in model.M:\n",
    "    for r in model.R:\n",
    "        for i in model.I:\n",
    "            model.constraints.add(\n",
    "                model.cirm[i, r, m] == model.sirm[i, r, m] +\n",
    "                sum(pijm[i, j, m] + STijm[i, j, m] * model.yijrm[i, j, r, m] for j in model.J)\n",
    "            )"
   ]
  },
  {
   "cell_type": "code",
   "execution_count": 13,
   "metadata": {},
   "outputs": [],
   "source": [
    "for m in model.M:\n",
    "    for j in model.J:\n",
    "        for i in model.I:\n",
    "            model.constraints.add(sum(model.yijrm[i, j, r, m] for r in model.R) <= fijm[i, j, m])\n"
   ]
  },
  {
   "cell_type": "code",
   "execution_count": 14,
   "metadata": {},
   "outputs": [],
   "source": [
    "for j in model.J:\n",
    "    for i in model.I:\n",
    "        model.constraints.add(\n",
    "            sum(model.yijrm[i, j, r, m] * fijm[i, j, m] for r in model.R for m in model.M) == 1\n",
    "        )\n"
   ]
  },
  {
   "cell_type": "code",
   "execution_count": 15,
   "metadata": {},
   "outputs": [],
   "source": [
    "for m in model.M:\n",
    "    for r in model.R:\n",
    "        for j in model.J:\n",
    "            for i in model.I:\n",
    "                model.constraints.add(\n",
    "                    model.sij[i, j] >= model.sirm[i, r, m] - B * (1 - model.yijrm[i, j, r, m])\n",
    "                )\n"
   ]
  },
  {
   "cell_type": "code",
   "execution_count": 16,
   "metadata": {},
   "outputs": [],
   "source": [
    "for m in model.M:\n",
    "    for r in range(1, numPositions):\n",
    "        for i in model.I:\n",
    "            model.constraints.add(model.sirm[i, r + 1, m] >= model.cirm[i, r, m])\n"
   ]
  },
  {
   "cell_type": "code",
   "execution_count": null,
   "metadata": {},
   "outputs": [],
   "source": [
    "for j in model.J:\n",
    "    for i in range(1, numOperations):\n",
    "        model.constraints.add(model.sij[i + 1, j] >= model.cij[i, j])\n",
    "\n",
    "solver = SolverFactory('glpk')\n",
    "solver.solve(model)"
   ]
  },
  {
   "cell_type": "code",
   "execution_count": 18,
   "metadata": {},
   "outputs": [
    {
     "name": "stdout",
     "output_type": "stream",
     "text": [
      "Objective (Cmax): None\n",
      "Operation 1, Job 1: Start = None, Completion = None\n",
      "Operation 1, Job 2: Start = None, Completion = None\n",
      "Operation 2, Job 1: Start = None, Completion = None\n",
      "Operation 2, Job 2: Start = None, Completion = None\n",
      "Operation 3, Job 1: Start = None, Completion = None\n",
      "Operation 3, Job 2: Start = None, Completion = None\n"
     ]
    }
   ],
   "source": [
    "# Print results\n",
    "print(f\"Objective (Cmax): {model.Cmax.value}\")\n",
    "for i in model.I:\n",
    "    for j in model.J:\n",
    "        print(f\"Operation {i}, Job {j}: Start = {model.sij[i, j].value}, Completion = {model.cij[i, j].value}\")"
   ]
  },
  {
   "cell_type": "code",
   "execution_count": 24,
   "metadata": {},
   "outputs": [],
   "source": [
    "import pandas as pd"
   ]
  },
  {
   "cell_type": "code",
   "execution_count": 25,
   "metadata": {},
   "outputs": [
    {
     "name": "stdout",
     "output_type": "stream",
     "text": [
      "Input binary parameters fijm\n",
      "Job 1, Operation 1, Machine m=1: 1\n",
      "Job 1, Operation 1, Machine m=2: 0\n",
      "Job 1, Operation 1, Machine m=3: 0\n",
      "Job 1, Operation 2, Machine m=1: 0\n",
      "Job 1, Operation 2, Machine m=2: 0\n",
      "Job 1, Operation 2, Machine m=3: 1\n",
      "Job 1, Operation 3, Machine m=1: 0\n",
      "Job 1, Operation 3, Machine m=2: 0\n",
      "Job 1, Operation 3, Machine m=3: 0\n",
      "Job 2, Operation 1, Machine m=1: 1\n",
      "Job 2, Operation 1, Machine m=2: 0\n",
      "Job 2, Operation 1, Machine m=3: 0\n",
      "Job 2, Operation 2, Machine m=1: 0\n",
      "Job 2, Operation 2, Machine m=2: 1\n",
      "Job 2, Operation 2, Machine m=3: 0\n",
      "Job 2, Operation 3, Machine m=1: 0\n",
      "Job 2, Operation 3, Machine m=2: 0\n",
      "Job 2, Operation 3, Machine m=3: 1\n",
      "\n",
      "Input parameters of processing time pijm\n",
      "Job 1.0, Operation 1.0, Machine m=1: 3.0\n",
      "Job 1.0, Operation 1.0, Machine m=2: nan\n",
      "Job 1.0, Operation 1.0, Machine m=3: nan\n",
      "Job 1.0, Operation 2.0, Machine m=1: nan\n",
      "Job 1.0, Operation 2.0, Machine m=2: nan\n",
      "Job 1.0, Operation 2.0, Machine m=3: 4.0\n",
      "Job 2.0, Operation 3.0, Machine m=1: nan\n",
      "Job 2.0, Operation 3.0, Machine m=2: nan\n",
      "Job 2.0, Operation 3.0, Machine m=3: 6.0\n",
      "\n",
      "Input parameters of setup time STijm\n",
      "Job 1.0, Operation 1.0, Machine m=1: 1.0\n",
      "Job 1.0, Operation 1.0, Machine m=2: nan\n",
      "Job 1.0, Operation 1.0, Machine m=3: nan\n",
      "Job 1.0, Operation 2.0, Machine m=1: nan\n",
      "Job 1.0, Operation 2.0, Machine m=2: nan\n",
      "Job 1.0, Operation 2.0, Machine m=3: 2.0\n",
      "Job 2.0, Operation 3.0, Machine m=1: nan\n",
      "Job 2.0, Operation 3.0, Machine m=2: nan\n",
      "Job 2.0, Operation 3.0, Machine m=3: 1.0\n",
      "\n",
      "Input parameters of maintenance duration dmw\n",
      "Machine 1, Maintenance Activity 1: 0\n",
      "Machine 1, Maintenance Activity 2: 0\n",
      "Machine 1, Maintenance Activity 3: 3\n",
      "\n",
      "Maximum number of maintenance activities\n",
      "Q: 1\n",
      "\n",
      "Results for each scenario\n",
      "Scenario 1: Makespan 20\n",
      "Scenario 2: Makespan 23\n",
      "Scenario 3: Makespan 29\n",
      "Scenario 4: Makespan 28\n",
      "Scenario 5: Makespan 25\n"
     ]
    }
   ],
   "source": [
    "input_data = pd.read_excel(\"complete_data.xlsx\", sheet_name=None)\n",
    "\n",
    "fijm = {(row['Job'], row['Operation'], m): row[m] for _, row in input_data['fijm'].iterrows() for m in ['m=1', 'm=2', 'm=3']}\n",
    "pijm = {(row['Job'], row['Operation'], m): row[m] for _, row in input_data['pijm'].iterrows() for m in ['m=1', 'm=2', 'm=3']}\n",
    "STijm = {(row['Job'], row['Operation'], m): row[m] for _, row in input_data['STijm'].iterrows() for m in ['m=1', 'm=2', 'm=3']}\n",
    "dmw = {(1, int(m.split('=')[1])): row[m] for _, row in input_data['dmw'].iterrows() for m in ['m=1', 'm=2', 'm=3']}\n",
    "Q = int(input_data['Q']['Maximum number of maintenance activities'][0])\n",
    "scenarios = input_data['Scenarios'].to_dict('records')\n",
    "\n",
    "print(\"Input binary parameters fijm\")\n",
    "for key, value in fijm.items():\n",
    "    print(f\"Job {key[0]}, Operation {key[1]}, Machine {key[2]}: {value}\")\n",
    "\n",
    "print(\"\\nInput parameters of processing time pijm\")\n",
    "for key, value in pijm.items():\n",
    "    print(f\"Job {key[0]}, Operation {key[1]}, Machine {key[2]}: {value}\")\n",
    "\n",
    "print(\"\\nInput parameters of setup time STijm\")\n",
    "for key, value in STijm.items():\n",
    "    print(f\"Job {key[0]}, Operation {key[1]}, Machine {key[2]}: {value}\")\n",
    "\n",
    "print(\"\\nInput parameters of maintenance duration dmw\")\n",
    "for key, value in dmw.items():\n",
    "    print(f\"Machine {key[0]}, Maintenance Activity {key[1]}: {value}\")\n",
    "\n",
    "print(\"\\nMaximum number of maintenance activities\")\n",
    "print(f\"Q: {Q}\")\n",
    "\n",
    "print(\"\\nResults for each scenario\")\n",
    "for scenario in scenarios:\n",
    "    print(f\"Scenario {scenario['Scenario']}: Makespan {scenario['Makespan']}\")"
   ]
  }
 ],
 "metadata": {
  "kernelspec": {
   "display_name": "Python 3",
   "language": "python",
   "name": "python3"
  },
  "language_info": {
   "codemirror_mode": {
    "name": "ipython",
    "version": 3
   },
   "file_extension": ".py",
   "mimetype": "text/x-python",
   "name": "python",
   "nbconvert_exporter": "python",
   "pygments_lexer": "ipython3",
   "version": "3.11.2"
  }
 },
 "nbformat": 4,
 "nbformat_minor": 2
}
